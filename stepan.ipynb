{
 "cells": [
  {
   "cell_type": "markdown",
   "metadata": {},
   "source": [
    "## One class classification"
   ]
  },
  {
   "cell_type": "code",
   "execution_count": null,
   "metadata": {},
   "outputs": [],
   "source": [
    "import librosa\n",
    "import math\n",
    "from scipy.io import wavfile\n",
    "\n",
    "def precompute_min_timeseries_len_librosa(list_of_audiofiles, hop_length, sr):\n",
    "    timeseries_length_list = []\n",
    "    for file in list_of_audiofiles:\n",
    "        #print(\"Loading \" + str(file))\n",
    "        y, sr = librosa.load(file, sr=sr)\n",
    "        timeseries_length_list.append(math.ceil(len(y) / hop_length))\n",
    "    return min(timeseries_length_list)\n",
    "\n",
    "def precompute_min_timeseries_len_wavfile(list_of_audiofiles, hop_length):\n",
    "    timeseries_length_list = []\n",
    "    for file in list_of_audiofiles:\n",
    "        #print(\"Loading \" + str(file))\n",
    "        sr, y = wavfile.read(file)\n",
    "        timeseries_length_list.append(math.ceil(len(y) / hop_length))\n",
    "    return min(timeseries_length_list)\n",
    "\n",
    "def precompute_min_timeseries_len_from_data(array_of_data, hop_length):\n",
    "    timeseries_length_list = []\n",
    "    for data in array_of_data:\n",
    "        timeseries_length_list.append(math.ceil(len(data) / hop_length))\n",
    "    return min(timeseries_length_list)\n",
    "\n",
    "def extract_audio_features_librosa(list_of_audiofiles, sound_class, hop_length, sr):\n",
    "    list_of_data = []\n",
    "    for i, file in enumerate(list_of_audiofiles):\n",
    "        y, sr = librosa.load(file, sr=sr)\n",
    "        list_of_data.append(y)\n",
    "    return extract_audio_features_from_data(list_of_data, sound_class, hop_length, sr)\n",
    "\n",
    "def extract_audio_features_wavfile(list_of_audiofiles, sound_class, hop_length):\n",
    "    list_of_data = []\n",
    "    for i, file in enumerate(list_of_audiofiles):\n",
    "        print(file)\n",
    "        sr, y = wavfile.read(file)\n",
    "        list_of_data.append(y)\n",
    "    return extract_audio_features_from_data(list_of_data, sound_class, hop_length, sr)\n",
    "\n",
    "def extract_audio_features_from_data(list_of_data, sound_class, hop_length, sr):\n",
    "    n_mfcc = 13\n",
    "    whole_data = None\n",
    "    \n",
    "    for i, y in enumerate(list_of_data):\n",
    "        y = y.astype(np.float32)\n",
    "        mfcc = librosa.feature.mfcc(y=y, sr=sr, hop_length=hop_length, n_mfcc=n_mfcc)\n",
    "        spectral_center = librosa.feature.spectral_centroid(y=y, sr=sr, hop_length=hop_length)\n",
    "        chroma = librosa.feature.chroma_stft(y=y, sr=sr, hop_length=hop_length)\n",
    "        spectral_contrast = librosa.feature.spectral_contrast(y=y, sr=sr, hop_length=hop_length)\n",
    "    \n",
    "        timeseries_length = mfcc.T.shape[0] # precompute_min_timeseries_len_from_data([y], hop_length) + 1\n",
    "        data = np.zeros((timeseries_length, 33), dtype=np.float64)\n",
    "        #print('data shape: ', data.shape)\n",
    "        data[:, 0:13] = mfcc.T\n",
    "        data[:, 13:14] = spectral_center.T\n",
    "        data[:, 14:26] = chroma.T\n",
    "        data[:, 26:33] = spectral_contrast.T\n",
    "        \n",
    "        #print('timeseries_length: ', timeseries_length)\n",
    "        #print('sound_data: ', y[:20])\n",
    "        #print('shape: ', data.shape)\n",
    "        #print('before norm: ', data[:20, :])\n",
    "        data = data / np.linalg.norm(data)\n",
    "        #print('after norm: ', data[:20, :])\n",
    "        \n",
    "        if whole_data is None:\n",
    "            whole_data = data\n",
    "        else:\n",
    "            whole_data = np.vstack((whole_data, data))\n",
    "        \n",
    "    return whole_data, np.full((whole_data.shape[0], 1), sound_class)"
   ]
  },
  {
   "cell_type": "code",
   "execution_count": null,
   "metadata": {},
   "outputs": [],
   "source": [
    "def print_metrics(data):\n",
    "        familiar_count = float(len(data[data == 1]))\n",
    "        print('familiar_count', familiar_count)\n",
    "        all_data_count = float(len(data))\n",
    "        print('all_data_count', all_data_count)\n",
    "        familiar_percent = familiar_count / all_data_count\n",
    "        print('familiar_percent', familiar_percent)\n",
    "        print()"
   ]
  },
  {
   "cell_type": "code",
   "execution_count": null,
   "metadata": {},
   "outputs": [],
   "source": [
    "timeseries_length_list = []\n",
    "hop_length = 512\n",
    "for sound_class, sound_paths in class_to_file_paths.items():\n",
    "    timeseries_length_list.append(precompute_min_timeseries_len_wavfile(sound_paths, hop_length))\n",
    "print(timeseries_length_list)"
   ]
  },
  {
   "cell_type": "code",
   "execution_count": null,
   "metadata": {},
   "outputs": [],
   "source": [
    "import numpy as np\n",
    "\n",
    "hop_length = 512\n",
    "X_train_one_svm = None\n",
    "Y_train_one_svm = None\n",
    "\n",
    "for sound_class, sound_paths in class_to_file_paths.items():\n",
    "    data, target = extract_audio_features_wavfile(sound_paths, int(sound_class), hop_length)\n",
    "    if X_train_one_svm is None and Y_train_one_svm is None:\n",
    "        X_train_one_svm = data\n",
    "        Y_train_one_svm = target\n",
    "    else:\n",
    "        X_train_one_svm = np.vstack((X_train_one_svm, data))\n",
    "        Y_train_one_svm = np.vstack((Y_train_one_svm, target))\n",
    "print(X_train_one_svm.shape, Y_train_one_svm.shape)"
   ]
  },
  {
   "cell_type": "code",
   "execution_count": null,
   "metadata": {},
   "outputs": [],
   "source": [
    "from sklearn import svm\n",
    "\n",
    "clf = svm.OneClassSVM(nu=0.1, coef0=0.04, kernel=\"poly\", gamma=0.1)\n",
    "clf.fit(X_train_one_svm)\n",
    "print_metrics(clf.predict(X_train_one_svm))"
   ]
  },
  {
   "cell_type": "code",
   "execution_count": null,
   "metadata": {},
   "outputs": [],
   "source": [
    "import pickle\n",
    "pickle.dump(clf, open('one_class_model.pkl', 'wb'))"
   ]
  },
  {
   "cell_type": "code",
   "execution_count": null,
   "metadata": {},
   "outputs": [],
   "source": [
    "fake_files_dir='fake-sounds'\n",
    "fake_files_paths = get_sound_files_paths(fake_files_dir)\n",
    "fake_data = read_full_data_from_drive(fake_files_paths)"
   ]
  },
  {
   "cell_type": "code",
   "execution_count": null,
   "metadata": {},
   "outputs": [],
   "source": [
    "print(fake_data)"
   ]
  },
  {
   "cell_type": "code",
   "execution_count": null,
   "metadata": {},
   "outputs": [],
   "source": [
    "for sound_class, sound_paths in fake_data.items():\n",
    "    for sound_path in sound_paths:\n",
    "        data, target = extract_audio_features_wavfile([sound_path], int(sound_class), hop_length)\n",
    "        print_metrics(clf.predict(data))"
   ]
  },
  {
   "cell_type": "code",
   "execution_count": null,
   "metadata": {},
   "outputs": [],
   "source": [
    "for sound_class, sound_paths in class_to_file_paths.items():\n",
    "    for sound_path in sound_paths:\n",
    "        data, target = extract_audio_features_wavfile([sound_path], int(sound_class), hop_length)\n",
    "        print_metrics(clf.predict(data))"
   ]
  },
  {
   "cell_type": "markdown",
   "metadata": {},
   "source": [
    "## LSTM model"
   ]
  },
  {
   "cell_type": "code",
   "execution_count": 1,
   "metadata": {},
   "outputs": [],
   "source": [
    "sound_files_dir='sounds-with-classes'\n",
    "#sound_files_dir='sounds-with-classes-without-noise'"
   ]
  },
  {
   "cell_type": "code",
   "execution_count": 2,
   "metadata": {},
   "outputs": [],
   "source": [
    "def get_sound_files_paths(sound_files_dir):\n",
    "    from os import walk\n",
    "    sound_files_paths = []\n",
    "    for (dirpath, dirnames, filenames) in walk(sound_files_dir):\n",
    "        if len(filenames) > 0:\n",
    "            for filename in filenames:\n",
    "                if len(filename) > 0 and filename[0] != '.':\n",
    "                    sound_files_paths.append('/'.join([dirpath, filename]))\n",
    "    return sound_files_paths"
   ]
  },
  {
   "cell_type": "code",
   "execution_count": 3,
   "metadata": {},
   "outputs": [],
   "source": [
    "sound_files_paths = get_sound_files_paths(sound_files_dir)"
   ]
  },
  {
   "cell_type": "code",
   "execution_count": 4,
   "metadata": {},
   "outputs": [],
   "source": [
    "def read_full_data_from_drive(data_path):\n",
    "    class_to_file_paths = {}\n",
    "    for sound_file_path in data_path:\n",
    "        file_class = sound_file_path.split('/')[-2]\n",
    "        if file_class in class_to_file_paths:\n",
    "            class_to_file_paths[file_class].append(sound_file_path)\n",
    "        else:\n",
    "            class_to_file_paths[file_class] = [sound_file_path]\n",
    "    return class_to_file_paths\n",
    "\n",
    "def read_data_from_drive(sound_file_path):\n",
    "    from scipy.io import wavfile\n",
    "    fs, data = wavfile.read(sound_file_path)\n",
    "    #print(sound_file_path)\n",
    "    #print(data[:20])\n",
    "    #print(data.dtype)\n",
    "    return data"
   ]
  },
  {
   "cell_type": "code",
   "execution_count": 5,
   "metadata": {},
   "outputs": [],
   "source": [
    "class_to_file_paths = read_full_data_from_drive(sound_files_paths)"
   ]
  },
  {
   "cell_type": "code",
   "execution_count": 6,
   "metadata": {},
   "outputs": [
    {
     "name": "stdout",
     "output_type": "stream",
     "text": [
      "{'0': ['sounds-with-classes/0/noise-6.wav', 'sounds-with-classes/0/noise-4.wav', 'sounds-with-classes/0/noise-5.wav', 'sounds-with-classes/0/noise-1.wav', 'sounds-with-classes/0/noise-2.wav', 'sounds-with-classes/0/noise-3.wav'], '1': ['sounds-with-classes/1/stepan-1.wav', 'sounds-with-classes/1/stepan-2.wav', 'sounds-with-classes/1/stepan-3.wav', 'sounds-with-classes/1/stepan-7.wav', 'sounds-with-classes/1/stepan-6.wav', 'sounds-with-classes/1/stepan-4.wav', 'sounds-with-classes/1/stepan-5.wav', 'sounds-with-classes/1/stepan-10.wav', 'sounds-with-classes/1/stepan-8.wav', 'sounds-with-classes/1/stepan-9.wav'], '3': ['sounds-with-classes/3/kuber-show-2.wav', 'sounds-with-classes/3/kuber-show-3.wav', 'sounds-with-classes/3/kuber-show-1.wav', 'sounds-with-classes/3/kuber-show-4.wav', 'sounds-with-classes/3/kuber-show-5.wav', 'sounds-with-classes/3/kuber-show-7.wav', 'sounds-with-classes/3/kuber-show-6.wav', 'sounds-with-classes/3/kuber-show-8.wav', 'sounds-with-classes/3/kuber-show-9.wav', 'sounds-with-classes/3/kuber-show-10.wav', 'sounds-with-classes/3/kuber-show-11.wav'], '2': ['sounds-with-classes/2/catalog-api-show-9.wav', 'sounds-with-classes/2/catalog-api-show-8.wav', 'sounds-with-classes/2/catalog-api-show-10.wav', 'sounds-with-classes/2/catalog-api-show-11.wav', 'sounds-with-classes/2/catalog-api-show-3.wav', 'sounds-with-classes/2/catalog-api-show-2.wav', 'sounds-with-classes/2/catalog-api-show-1.wav', 'sounds-with-classes/2/catalog-api-show-5.wav', 'sounds-with-classes/2/catalog-api-show-4.wav', 'sounds-with-classes/2/catalog-api-show-6.wav', 'sounds-with-classes/2/catalog-api-show-7.wav']}\n"
     ]
    }
   ],
   "source": [
    "print(class_to_file_paths)"
   ]
  },
  {
   "cell_type": "code",
   "execution_count": 7,
   "metadata": {},
   "outputs": [
    {
     "data": {
      "text/html": [
       "\n",
       "                <audio controls=\"controls\" >\n",
       "                    <source src=\"data:audio/wav;base64,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\" type=\"audio/wav\" />\n",
       "                    Your browser does not support the audio element.\n",
       "                </audio>\n",
       "              "
      ],
      "text/plain": [
       "<IPython.lib.display.Audio object>"
      ]
     },
     "execution_count": 7,
     "metadata": {},
     "output_type": "execute_result"
    }
   ],
   "source": [
    "import IPython.display as ipd\n",
    "ipd.Audio(read_data_from_drive(class_to_file_paths['1'][0]), rate=44100)"
   ]
  },
  {
   "cell_type": "code",
   "execution_count": 8,
   "metadata": {},
   "outputs": [],
   "source": [
    "def split_data_to_train_and_valid(data, valid_percent=20.0, test_percent=10.0):\n",
    "    import math\n",
    "    import random\n",
    "    train_data = {}\n",
    "    valid_data = {}\n",
    "    for class_id, sound_files_paths in data.items():\n",
    "        valid_samples_in_class = math.floor(len(sound_files_paths) * (valid_percent / 100))\n",
    "        train_samples_in_class = len(sound_files_paths) - valid_samples_in_class\n",
    "        valid_samples_ids = random.sample(range(len(sound_files_paths)), valid_samples_in_class)\n",
    "        for i in range(len(sound_files_paths)):\n",
    "            if i in valid_samples_ids:\n",
    "                valid_data[sound_files_paths[i]] = class_id\n",
    "            else:\n",
    "                train_data[sound_files_paths[i]] = class_id\n",
    "    return (train_data, valid_data)"
   ]
  },
  {
   "cell_type": "code",
   "execution_count": 9,
   "metadata": {},
   "outputs": [],
   "source": [
    "train_data, valid_data = split_data_to_train_and_valid(class_to_file_paths)"
   ]
  },
  {
   "cell_type": "code",
   "execution_count": 10,
   "metadata": {},
   "outputs": [
    {
     "name": "stdout",
     "output_type": "stream",
     "text": [
      "{'sounds-with-classes/0/noise-2.wav': '0', 'sounds-with-classes/1/stepan-4.wav': '1', 'sounds-with-classes/1/stepan-9.wav': '1', 'sounds-with-classes/3/kuber-show-3.wav': '3', 'sounds-with-classes/3/kuber-show-10.wav': '3', 'sounds-with-classes/2/catalog-api-show-10.wav': '2', 'sounds-with-classes/2/catalog-api-show-4.wav': '2'}\n"
     ]
    }
   ],
   "source": [
    "print(valid_data)"
   ]
  },
  {
   "cell_type": "code",
   "execution_count": 11,
   "metadata": {},
   "outputs": [],
   "source": [
    "def get_spectrogram_of_file(samples, sample_rate=44100):\n",
    "    from scipy import signal\n",
    "    frequencies, times, spectrogram = signal.spectrogram(samples, sample_rate)\n",
    "    return spectrogram.T"
   ]
  },
  {
   "cell_type": "code",
   "execution_count": 12,
   "metadata": {},
   "outputs": [],
   "source": [
    "def get_items_count(data):\n",
    "    items_count = 0\n",
    "    for file_path in data:\n",
    "        items_count += len(read_data_from_drive(file_path))\n",
    "    return items_count\n",
    "\n",
    "def get_spectrogram_count(data):\n",
    "    items_count = 0\n",
    "    for file_path in data:\n",
    "        items_count += get_spectrogram_of_file(read_data_from_drive(file_path)).shape[0]\n",
    "    return items_count"
   ]
  },
  {
   "cell_type": "code",
   "execution_count": 13,
   "metadata": {},
   "outputs": [],
   "source": [
    "train_data_items_count = get_spectrogram_count(train_data)\n",
    "valid_data_items_count = get_spectrogram_count(valid_data)"
   ]
  },
  {
   "cell_type": "code",
   "execution_count": 14,
   "metadata": {},
   "outputs": [
    {
     "name": "stdout",
     "output_type": "stream",
     "text": [
      "{'sounds-with-classes/0/noise-6.wav': '0', 'sounds-with-classes/0/noise-4.wav': '0', 'sounds-with-classes/0/noise-5.wav': '0', 'sounds-with-classes/0/noise-1.wav': '0', 'sounds-with-classes/0/noise-3.wav': '0', 'sounds-with-classes/1/stepan-1.wav': '1', 'sounds-with-classes/1/stepan-2.wav': '1', 'sounds-with-classes/1/stepan-3.wav': '1', 'sounds-with-classes/1/stepan-7.wav': '1', 'sounds-with-classes/1/stepan-6.wav': '1', 'sounds-with-classes/1/stepan-5.wav': '1', 'sounds-with-classes/1/stepan-10.wav': '1', 'sounds-with-classes/1/stepan-8.wav': '1', 'sounds-with-classes/3/kuber-show-2.wav': '3', 'sounds-with-classes/3/kuber-show-1.wav': '3', 'sounds-with-classes/3/kuber-show-4.wav': '3', 'sounds-with-classes/3/kuber-show-5.wav': '3', 'sounds-with-classes/3/kuber-show-7.wav': '3', 'sounds-with-classes/3/kuber-show-6.wav': '3', 'sounds-with-classes/3/kuber-show-8.wav': '3', 'sounds-with-classes/3/kuber-show-9.wav': '3', 'sounds-with-classes/3/kuber-show-11.wav': '3', 'sounds-with-classes/2/catalog-api-show-9.wav': '2', 'sounds-with-classes/2/catalog-api-show-8.wav': '2', 'sounds-with-classes/2/catalog-api-show-11.wav': '2', 'sounds-with-classes/2/catalog-api-show-3.wav': '2', 'sounds-with-classes/2/catalog-api-show-2.wav': '2', 'sounds-with-classes/2/catalog-api-show-1.wav': '2', 'sounds-with-classes/2/catalog-api-show-5.wav': '2', 'sounds-with-classes/2/catalog-api-show-6.wav': '2', 'sounds-with-classes/2/catalog-api-show-7.wav': '2'}\n",
      "{'sounds-with-classes/0/noise-2.wav': '0', 'sounds-with-classes/1/stepan-4.wav': '1', 'sounds-with-classes/1/stepan-9.wav': '1', 'sounds-with-classes/3/kuber-show-3.wav': '3', 'sounds-with-classes/3/kuber-show-10.wav': '3', 'sounds-with-classes/2/catalog-api-show-10.wav': '2', 'sounds-with-classes/2/catalog-api-show-4.wav': '2'}\n"
     ]
    }
   ],
   "source": [
    "print(train_data)\n",
    "print(valid_data)"
   ]
  },
  {
   "cell_type": "code",
   "execution_count": 23,
   "metadata": {},
   "outputs": [],
   "source": [
    "def build_vocabulary(class_to_file_paths):\n",
    "    vocabulary = {}\n",
    "    vocab_index = 0\n",
    "    for file_class, file_paths in class_to_file_paths.items():\n",
    "        for file_path in file_paths:\n",
    "            file_data = read_data_from_drive(file_path)\n",
    "            for file_item in file_data:\n",
    "                if file_item not in vocabulary:\n",
    "                    vocabulary[file_item] = vocab_index\n",
    "                    vocab_index += 1\n",
    "    reversed_vocabulary = dict(zip(vocabulary.values(), vocabulary.keys()))\n",
    "    return (vocabulary, reversed_vocabulary)"
   ]
  },
  {
   "cell_type": "code",
   "execution_count": 24,
   "metadata": {},
   "outputs": [],
   "source": [
    "vocabulary, reversed_vocabulary = build_vocabulary(class_to_file_paths)"
   ]
  },
  {
   "cell_type": "code",
   "execution_count": 19,
   "metadata": {},
   "outputs": [],
   "source": [
    "from keras.utils import to_categorical\n",
    "import numpy as np\n",
    "\n",
    "class StepanBatchGenerator(object):\n",
    "\n",
    "    def __init__(self, data, num_steps, batch_size, num_classes, vocabulary, skip_steps=1, freq=129):\n",
    "        self.num_steps = num_steps\n",
    "        self.batch_size = batch_size\n",
    "        self.num_classes = num_classes\n",
    "        self.skip_steps = skip_steps\n",
    "        self.vocabulary = vocabulary\n",
    "        self.freq = freq\n",
    "        \n",
    "        self.current_data = None\n",
    "        self.current_file_idx = 0\n",
    "        self.current_pos_in_file = 0\n",
    "        \n",
    "        self.current_spectrogram = None\n",
    "        self.current_pos_in_spectrogram = 0\n",
    "\n",
    "        self.file_paths = []\n",
    "        self.file_classes = []\n",
    "        for file_path, file_class in data.items():\n",
    "            self.file_paths.append(file_path)\n",
    "            self.file_classes.append(file_class)\n",
    "        self.__change_file()\n",
    "    \n",
    "    def __map_data_to_vocabulary(self, data):\n",
    "        return [self.vocabulary[d] for d in data if d in self.vocabulary]\n",
    "    \n",
    "    def __change_file(self):\n",
    "        while True:\n",
    "            try:\n",
    "                if self.current_file_idx+1 >= len(self.file_paths):\n",
    "                    self.current_file_idx = 0\n",
    "                else:\n",
    "                    self.current_file_idx += 1\n",
    "                self.current_data = read_data_from_drive(self.file_paths[self.current_file_idx])\n",
    "                self.current_spectrogram = get_spectrogram_of_file(self.current_data)\n",
    "                self.current_pos_in_file = 0\n",
    "                self.current_pos_in_spectrogram = 0\n",
    "                break\n",
    "            except:\n",
    "                pass\n",
    "        \n",
    "    def generate(self):\n",
    "        x = np.zeros((self.batch_size, self.num_steps, self.freq))\n",
    "        y = np.zeros((self.batch_size, self.num_classes))\n",
    "        while True:\n",
    "            for i in range(self.batch_size):\n",
    "                if self.current_pos_in_spectrogram + self.num_steps >= len(self.current_spectrogram):\n",
    "                    self.__change_file()\n",
    "                x[i, :, :] = self.current_spectrogram[self.current_pos_in_spectrogram:self.current_pos_in_spectrogram + self.num_steps, :]\n",
    "                y[i, :] = to_categorical(self.file_classes[self.current_file_idx], num_classes=self.num_classes)\n",
    "                self.current_pos_in_spectrogram += self.skip_steps\n",
    "            yield x, y"
   ]
  },
  {
   "cell_type": "code",
   "execution_count": 20,
   "metadata": {},
   "outputs": [],
   "source": [
    "num_steps = 60\n",
    "skip_steps = 30\n",
    "batch_size = 8\n",
    "num_classes = len(class_to_file_paths)"
   ]
  },
  {
   "cell_type": "code",
   "execution_count": null,
   "metadata": {},
   "outputs": [],
   "source": [
    "train_data_generator = StepanBatchGenerator(train_data, num_steps, batch_size, num_classes, vocabulary, skip_steps=skip_steps)\n",
    "valid_data_generator = StepanBatchGenerator(valid_data, num_steps, batch_size, num_classes, vocabulary, skip_steps=skip_steps)"
   ]
  },
  {
   "cell_type": "code",
   "execution_count": null,
   "metadata": {},
   "outputs": [],
   "source": [
    "def pieces_in_whole_sound_with_step(data_count, num_steps, skip_steps):\n",
    "    pieces = 0\n",
    "    end_piece = num_steps\n",
    "    while end_piece <= data_count:\n",
    "        pieces += 1\n",
    "        end_piece += skip_steps\n",
    "    return pieces"
   ]
  },
  {
   "cell_type": "code",
   "execution_count": null,
   "metadata": {},
   "outputs": [],
   "source": [
    "train_steps = pieces_in_whole_sound_with_step(train_data_items_count, num_steps, skip_steps)//batch_size\n",
    "validation_steps = pieces_in_whole_sound_with_step(valid_data_items_count, num_steps, skip_steps)//batch_size\n",
    "print('Train steps: ', train_steps)\n",
    "print('Valid steps: ', validation_steps)"
   ]
  },
  {
   "cell_type": "code",
   "execution_count": null,
   "metadata": {},
   "outputs": [],
   "source": [
    "import keras\n",
    "from keras.models import Sequential\n",
    "from keras.layers import Dense, Activation, Embedding, Dropout, TimeDistributed, LSTM\n",
    "from keras.initializers import Constant, RandomNormal\n",
    "\n",
    "hidden_size = 500\n",
    "num_epochs = 30\n",
    "\n",
    "stepan_model = Sequential()\n",
    "stepan_model.add(LSTM(hidden_size, dropout=0.1, return_sequences=False, input_shape=(num_steps, 129)))\n",
    "stepan_model.add(Dense(units=num_classes, activation='softmax'))\n",
    "                 \n",
    "stepan_model.compile(loss='categorical_crossentropy', optimizer='adam', metrics=['categorical_accuracy'])\n",
    "print(stepan_model.summary())\n",
    "                 \n",
    "hist = stepan_model.fit_generator(train_data_generator.generate(), train_steps, num_epochs,\n",
    "                        validation_data=valid_data_generator.generate(),\n",
    "                        validation_steps=validation_steps)"
   ]
  },
  {
   "cell_type": "code",
   "execution_count": null,
   "metadata": {},
   "outputs": [],
   "source": [
    "#stepan_model.save(\"stepan_model_4_classes_(noise,catalog,kuber,stepan)_acc_89.hdf5\")"
   ]
  },
  {
   "cell_type": "code",
   "execution_count": 16,
   "metadata": {},
   "outputs": [
    {
     "name": "stderr",
     "output_type": "stream",
     "text": [
      "Using TensorFlow backend.\n"
     ]
    }
   ],
   "source": [
    "from keras.models import load_model\n",
    "stepan_model = load_model(\"stepan_model_4_classes_(noise,catalog,kuber,stepan)_acc_89.hdf5\")"
   ]
  },
  {
   "cell_type": "code",
   "execution_count": 25,
   "metadata": {},
   "outputs": [],
   "source": [
    "fake_files_dir='fake-sounds'\n",
    "fake_files_paths = get_sound_files_paths(fake_files_dir)\n",
    "fake_data = read_full_data_from_drive(fake_files_paths)\n",
    "fake_data = split_data_to_train_and_valid(fake_data, valid_percent=0.0)\n",
    "fake_data = fake_data[0]\n",
    "for path_to_file, cl in fake_data.items():\n",
    "    fake_data[path_to_file] = '0'"
   ]
  },
  {
   "cell_type": "code",
   "execution_count": 27,
   "metadata": {
    "scrolled": true
   },
   "outputs": [
    {
     "name": "stdout",
     "output_type": "stream",
     "text": [
      "Training data:\n",
      "Label 0: predicted: 2 true: 0 p: [[2.4549814e-01 6.1444443e-05 4.3204740e-01 3.2239306e-01]]\n",
      "Label 1: predicted: 2 true: 0 p: [[1.3342492e-04 1.5823560e-05 9.9861026e-01 1.2403986e-03]]\n",
      "Label 2: predicted: 2 true: 0 p: [[2.6393277e-04 1.1190751e-03 9.8826164e-01 1.0355425e-02]]\n",
      "Label 3: predicted: 2 true: 0 p: [[3.17388243e-04 4.30665575e-02 9.44183946e-01 1.24320835e-02]]\n",
      "Label 4: predicted: 2 true: 0 p: [[1.5744020e-03 4.7579562e-04 9.8595053e-01 1.1999274e-02]]\n",
      "Label 5: predicted: 0 true: 0 p: [[9.2829692e-01 6.3596130e-04 7.7062356e-04 7.0296437e-02]]\n",
      "Label 6: predicted: 2 true: 0 p: [[2.4572627e-01 2.4567876e-04 6.5931934e-01 9.4708771e-02]]\n",
      "Label 7: predicted: 2 true: 0 p: [[3.6588889e-03 2.3913428e-05 9.6690851e-01 2.9408665e-02]]\n",
      "Label 8: predicted: 2 true: 0 p: [[4.6315496e-03 1.8929258e-04 9.4337344e-01 5.1805627e-02]]\n",
      "Label 9: predicted: 3 true: 0 p: [[1.77213866e-02 1.19914606e-04 1.76118985e-01 8.06039751e-01]]\n",
      "Label 10: predicted: 3 true: 0 p: [[0.08079431 0.05132001 0.04550154 0.8223842 ]]\n",
      "Label 11: predicted: 2 true: 0 p: [[3.4301665e-05 2.3167729e-04 9.9865687e-01 1.0771385e-03]]\n",
      "Label 12: predicted: 2 true: 0 p: [[0.02132962 0.00230466 0.6352005  0.34116524]]\n",
      "Label 13: predicted: 2 true: 0 p: [[2.4549814e-01 6.1444443e-05 4.3204740e-01 3.2239306e-01]]\n",
      "Label 14: predicted: 2 true: 0 p: [[1.3342492e-04 1.5823560e-05 9.9861026e-01 1.2403986e-03]]\n",
      "Label 15: predicted: 2 true: 0 p: [[2.6393277e-04 1.1190751e-03 9.8826164e-01 1.0355425e-02]]\n",
      "Label 16: predicted: 2 true: 0 p: [[3.17388243e-04 4.30665575e-02 9.44183946e-01 1.24320835e-02]]\n",
      "Label 17: predicted: 2 true: 0 p: [[1.5744020e-03 4.7579562e-04 9.8595053e-01 1.1999274e-02]]\n",
      "Label 18: predicted: 0 true: 0 p: [[9.2829692e-01 6.3596130e-04 7.7062356e-04 7.0296437e-02]]\n",
      "Label 19: predicted: 2 true: 0 p: [[2.4572627e-01 2.4567876e-04 6.5931934e-01 9.4708771e-02]]\n",
      "Label 20: predicted: 2 true: 0 p: [[3.6588889e-03 2.3913428e-05 9.6690851e-01 2.9408665e-02]]\n",
      "Label 21: predicted: 2 true: 0 p: [[4.6315496e-03 1.8929258e-04 9.4337344e-01 5.1805627e-02]]\n",
      "Label 22: predicted: 3 true: 0 p: [[1.77213866e-02 1.19914606e-04 1.76118985e-01 8.06039751e-01]]\n",
      "Label 23: predicted: 3 true: 0 p: [[0.08079431 0.05132001 0.04550154 0.8223842 ]]\n",
      "Label 24: predicted: 2 true: 0 p: [[3.4301665e-05 2.3167729e-04 9.9865687e-01 1.0771385e-03]]\n",
      "Label 25: predicted: 2 true: 0 p: [[0.02132962 0.00230466 0.6352005  0.34116524]]\n",
      "Label 26: predicted: 2 true: 0 p: [[2.4549814e-01 6.1444443e-05 4.3204740e-01 3.2239306e-01]]\n",
      "Label 27: predicted: 2 true: 0 p: [[1.3342492e-04 1.5823560e-05 9.9861026e-01 1.2403986e-03]]\n",
      "Label 28: predicted: 2 true: 0 p: [[2.6393277e-04 1.1190751e-03 9.8826164e-01 1.0355425e-02]]\n",
      "Label 29: predicted: 2 true: 0 p: [[3.17388243e-04 4.30665575e-02 9.44183946e-01 1.24320835e-02]]\n",
      "Label 30: predicted: 2 true: 0 p: [[1.5744020e-03 4.7579562e-04 9.8595053e-01 1.1999274e-02]]\n",
      "Label 31: predicted: 0 true: 0 p: [[9.2829692e-01 6.3596130e-04 7.7062356e-04 7.0296437e-02]]\n",
      "Label 32: predicted: 2 true: 0 p: [[2.4572627e-01 2.4567876e-04 6.5931934e-01 9.4708771e-02]]\n",
      "Label 33: predicted: 2 true: 0 p: [[3.6588889e-03 2.3913428e-05 9.6690851e-01 2.9408665e-02]]\n",
      "Label 34: predicted: 2 true: 0 p: [[4.6315496e-03 1.8929258e-04 9.4337344e-01 5.1805627e-02]]\n",
      "Label 35: predicted: 3 true: 0 p: [[1.77213866e-02 1.19914606e-04 1.76118985e-01 8.06039751e-01]]\n",
      "Label 36: predicted: 3 true: 0 p: [[0.08079431 0.05132001 0.04550154 0.8223842 ]]\n",
      "Label 37: predicted: 2 true: 0 p: [[3.4301665e-05 2.3167729e-04 9.9865687e-01 1.0771385e-03]]\n",
      "Label 38: predicted: 2 true: 0 p: [[0.02132962 0.00230466 0.6352005  0.34116524]]\n",
      "Label 39: predicted: 2 true: 0 p: [[2.4549814e-01 6.1444443e-05 4.3204740e-01 3.2239306e-01]]\n",
      "Label 40: predicted: 2 true: 0 p: [[1.3342492e-04 1.5823560e-05 9.9861026e-01 1.2403986e-03]]\n",
      "Label 41: predicted: 2 true: 0 p: [[2.6393277e-04 1.1190751e-03 9.8826164e-01 1.0355425e-02]]\n",
      "Label 42: predicted: 2 true: 0 p: [[3.17388243e-04 4.30665575e-02 9.44183946e-01 1.24320835e-02]]\n",
      "Label 43: predicted: 2 true: 0 p: [[1.5744020e-03 4.7579562e-04 9.8595053e-01 1.1999274e-02]]\n",
      "Label 44: predicted: 0 true: 0 p: [[9.2829692e-01 6.3596130e-04 7.7062356e-04 7.0296437e-02]]\n",
      "Label 45: predicted: 2 true: 0 p: [[2.4572627e-01 2.4567876e-04 6.5931934e-01 9.4708771e-02]]\n",
      "Label 46: predicted: 2 true: 0 p: [[3.6588889e-03 2.3913428e-05 9.6690851e-01 2.9408665e-02]]\n",
      "Label 47: predicted: 2 true: 0 p: [[4.6315496e-03 1.8929258e-04 9.4337344e-01 5.1805627e-02]]\n",
      "Label 48: predicted: 3 true: 0 p: [[1.77213866e-02 1.19914606e-04 1.76118985e-01 8.06039751e-01]]\n",
      "Label 49: predicted: 3 true: 0 p: [[0.08079431 0.05132001 0.04550154 0.8223842 ]]\n",
      "Label 50: predicted: 2 true: 0 p: [[3.4301665e-05 2.3167729e-04 9.9865687e-01 1.0771385e-03]]\n",
      "Label 51: predicted: 2 true: 0 p: [[0.02132962 0.00230466 0.6352005  0.34116524]]\n",
      "Label 52: predicted: 2 true: 0 p: [[2.4549814e-01 6.1444443e-05 4.3204740e-01 3.2239306e-01]]\n",
      "Label 53: predicted: 2 true: 0 p: [[1.3342492e-04 1.5823560e-05 9.9861026e-01 1.2403986e-03]]\n",
      "Label 54: predicted: 2 true: 0 p: [[2.6393277e-04 1.1190751e-03 9.8826164e-01 1.0355425e-02]]\n",
      "Label 55: predicted: 2 true: 0 p: [[3.17388243e-04 4.30665575e-02 9.44183946e-01 1.24320835e-02]]\n",
      "Label 56: predicted: 2 true: 0 p: [[1.5744020e-03 4.7579562e-04 9.8595053e-01 1.1999274e-02]]\n",
      "Label 57: predicted: 0 true: 0 p: [[9.2829692e-01 6.3596130e-04 7.7062356e-04 7.0296437e-02]]\n",
      "Label 58: predicted: 2 true: 0 p: [[2.4572627e-01 2.4567876e-04 6.5931934e-01 9.4708771e-02]]\n",
      "Label 59: predicted: 2 true: 0 p: [[3.6588889e-03 2.3913428e-05 9.6690851e-01 2.9408665e-02]]\n",
      "Label 60: predicted: 2 true: 0 p: [[4.6315496e-03 1.8929258e-04 9.4337344e-01 5.1805627e-02]]\n",
      "Label 61: predicted: 3 true: 0 p: [[1.77213866e-02 1.19914606e-04 1.76118985e-01 8.06039751e-01]]\n",
      "Label 62: predicted: 3 true: 0 p: [[0.08079431 0.05132001 0.04550154 0.8223842 ]]\n",
      "Label 63: predicted: 2 true: 0 p: [[3.4301665e-05 2.3167729e-04 9.9865687e-01 1.0771385e-03]]\n",
      "Label 64: predicted: 2 true: 0 p: [[0.02132962 0.00230466 0.6352005  0.34116524]]\n",
      "Label 65: predicted: 2 true: 0 p: [[2.4549814e-01 6.1444443e-05 4.3204740e-01 3.2239306e-01]]\n",
      "Label 66: predicted: 2 true: 0 p: [[1.3342492e-04 1.5823560e-05 9.9861026e-01 1.2403986e-03]]\n",
      "Label 67: predicted: 2 true: 0 p: [[2.6393277e-04 1.1190751e-03 9.8826164e-01 1.0355425e-02]]\n",
      "Label 68: predicted: 2 true: 0 p: [[3.17388243e-04 4.30665575e-02 9.44183946e-01 1.24320835e-02]]\n",
      "Label 69: predicted: 2 true: 0 p: [[1.5744020e-03 4.7579562e-04 9.8595053e-01 1.1999274e-02]]\n",
      "Label 70: predicted: 0 true: 0 p: [[9.2829692e-01 6.3596130e-04 7.7062356e-04 7.0296437e-02]]\n",
      "Label 71: predicted: 2 true: 0 p: [[2.4572627e-01 2.4567876e-04 6.5931934e-01 9.4708771e-02]]\n",
      "Label 72: predicted: 2 true: 0 p: [[3.6588889e-03 2.3913428e-05 9.6690851e-01 2.9408665e-02]]\n",
      "Label 73: predicted: 2 true: 0 p: [[4.6315496e-03 1.8929258e-04 9.4337344e-01 5.1805627e-02]]\n",
      "Label 74: predicted: 3 true: 0 p: [[1.77213866e-02 1.19914606e-04 1.76118985e-01 8.06039751e-01]]\n",
      "Label 75: predicted: 3 true: 0 p: [[0.08079431 0.05132001 0.04550154 0.8223842 ]]\n",
      "Label 76: predicted: 2 true: 0 p: [[3.4301665e-05 2.3167729e-04 9.9865687e-01 1.0771385e-03]]\n",
      "Label 77: predicted: 2 true: 0 p: [[0.02132962 0.00230466 0.6352005  0.34116524]]\n",
      "Label 78: predicted: 2 true: 0 p: [[2.4549814e-01 6.1444443e-05 4.3204740e-01 3.2239306e-01]]\n",
      "Label 79: predicted: 2 true: 0 p: [[1.3342492e-04 1.5823560e-05 9.9861026e-01 1.2403986e-03]]\n",
      "Label 80: predicted: 2 true: 0 p: [[2.6393277e-04 1.1190751e-03 9.8826164e-01 1.0355425e-02]]\n",
      "Label 81: predicted: 2 true: 0 p: [[3.17388243e-04 4.30665575e-02 9.44183946e-01 1.24320835e-02]]\n",
      "Label 82: predicted: 2 true: 0 p: [[1.5744020e-03 4.7579562e-04 9.8595053e-01 1.1999274e-02]]\n",
      "Label 83: predicted: 0 true: 0 p: [[9.2829692e-01 6.3596130e-04 7.7062356e-04 7.0296437e-02]]\n",
      "Label 84: predicted: 2 true: 0 p: [[2.4572627e-01 2.4567876e-04 6.5931934e-01 9.4708771e-02]]\n",
      "Label 85: predicted: 2 true: 0 p: [[3.6588889e-03 2.3913428e-05 9.6690851e-01 2.9408665e-02]]\n",
      "Label 86: predicted: 2 true: 0 p: [[4.6315496e-03 1.8929258e-04 9.4337344e-01 5.1805627e-02]]\n",
      "Label 87: predicted: 3 true: 0 p: [[1.77213866e-02 1.19914606e-04 1.76118985e-01 8.06039751e-01]]\n",
      "Label 88: predicted: 3 true: 0 p: [[0.08079431 0.05132001 0.04550154 0.8223842 ]]\n",
      "Label 89: predicted: 2 true: 0 p: [[3.4301665e-05 2.3167729e-04 9.9865687e-01 1.0771385e-03]]\n",
      "Label 90: predicted: 2 true: 0 p: [[0.02132962 0.00230466 0.6352005  0.34116524]]\n",
      "Label 91: predicted: 2 true: 0 p: [[2.4549814e-01 6.1444443e-05 4.3204740e-01 3.2239306e-01]]\n"
     ]
    },
    {
     "name": "stdout",
     "output_type": "stream",
     "text": [
      "Label 92: predicted: 2 true: 0 p: [[1.3342492e-04 1.5823560e-05 9.9861026e-01 1.2403986e-03]]\n",
      "Label 93: predicted: 2 true: 0 p: [[2.6393277e-04 1.1190751e-03 9.8826164e-01 1.0355425e-02]]\n",
      "Label 94: predicted: 2 true: 0 p: [[3.17388243e-04 4.30665575e-02 9.44183946e-01 1.24320835e-02]]\n",
      "Label 95: predicted: 2 true: 0 p: [[1.5744020e-03 4.7579562e-04 9.8595053e-01 1.1999274e-02]]\n",
      "Label 96: predicted: 0 true: 0 p: [[9.2829692e-01 6.3596130e-04 7.7062356e-04 7.0296437e-02]]\n",
      "Label 97: predicted: 2 true: 0 p: [[2.4572627e-01 2.4567876e-04 6.5931934e-01 9.4708771e-02]]\n",
      "Label 98: predicted: 2 true: 0 p: [[3.6588889e-03 2.3913428e-05 9.6690851e-01 2.9408665e-02]]\n",
      "Label 99: predicted: 2 true: 0 p: [[4.6315496e-03 1.8929258e-04 9.4337344e-01 5.1805627e-02]]\n",
      "Label 100: predicted: 3 true: 0 p: [[1.77213866e-02 1.19914606e-04 1.76118985e-01 8.06039751e-01]]\n",
      "Label 101: predicted: 3 true: 0 p: [[0.08079431 0.05132001 0.04550154 0.8223842 ]]\n",
      "Label 102: predicted: 2 true: 0 p: [[3.4301665e-05 2.3167729e-04 9.9865687e-01 1.0771385e-03]]\n",
      "Label 103: predicted: 2 true: 0 p: [[0.02132962 0.00230466 0.6352005  0.34116524]]\n",
      "Label 104: predicted: 2 true: 0 p: [[2.4549814e-01 6.1444443e-05 4.3204740e-01 3.2239306e-01]]\n",
      "Label 105: predicted: 2 true: 0 p: [[1.3342492e-04 1.5823560e-05 9.9861026e-01 1.2403986e-03]]\n",
      "Label 106: predicted: 2 true: 0 p: [[2.6393277e-04 1.1190751e-03 9.8826164e-01 1.0355425e-02]]\n",
      "Label 107: predicted: 2 true: 0 p: [[3.17388243e-04 4.30665575e-02 9.44183946e-01 1.24320835e-02]]\n",
      "Label 108: predicted: 2 true: 0 p: [[1.5744020e-03 4.7579562e-04 9.8595053e-01 1.1999274e-02]]\n",
      "Label 109: predicted: 0 true: 0 p: [[9.2829692e-01 6.3596130e-04 7.7062356e-04 7.0296437e-02]]\n",
      "Label 110: predicted: 2 true: 0 p: [[2.4572627e-01 2.4567876e-04 6.5931934e-01 9.4708771e-02]]\n",
      "Label 111: predicted: 2 true: 0 p: [[3.6588889e-03 2.3913428e-05 9.6690851e-01 2.9408665e-02]]\n",
      "Label 112: predicted: 2 true: 0 p: [[4.6315496e-03 1.8929258e-04 9.4337344e-01 5.1805627e-02]]\n",
      "Label 113: predicted: 3 true: 0 p: [[1.77213866e-02 1.19914606e-04 1.76118985e-01 8.06039751e-01]]\n",
      "Label 114: predicted: 3 true: 0 p: [[0.08079431 0.05132001 0.04550154 0.8223842 ]]\n",
      "Label 115: predicted: 2 true: 0 p: [[3.4301665e-05 2.3167729e-04 9.9865687e-01 1.0771385e-03]]\n",
      "Label 116: predicted: 2 true: 0 p: [[0.02132962 0.00230466 0.6352005  0.34116524]]\n",
      "Label 117: predicted: 2 true: 0 p: [[2.4549814e-01 6.1444443e-05 4.3204740e-01 3.2239306e-01]]\n",
      "Label 118: predicted: 2 true: 0 p: [[1.3342492e-04 1.5823560e-05 9.9861026e-01 1.2403986e-03]]\n",
      "Label 119: predicted: 2 true: 0 p: [[2.6393277e-04 1.1190751e-03 9.8826164e-01 1.0355425e-02]]\n",
      "Label 120: predicted: 2 true: 0 p: [[3.17388243e-04 4.30665575e-02 9.44183946e-01 1.24320835e-02]]\n",
      "Label 121: predicted: 2 true: 0 p: [[1.5744020e-03 4.7579562e-04 9.8595053e-01 1.1999274e-02]]\n",
      "Label 122: predicted: 0 true: 0 p: [[9.2829692e-01 6.3596130e-04 7.7062356e-04 7.0296437e-02]]\n",
      "Label 123: predicted: 2 true: 0 p: [[2.4572627e-01 2.4567876e-04 6.5931934e-01 9.4708771e-02]]\n",
      "Label 124: predicted: 2 true: 0 p: [[3.6588889e-03 2.3913428e-05 9.6690851e-01 2.9408665e-02]]\n",
      "Label 125: predicted: 2 true: 0 p: [[4.6315496e-03 1.8929258e-04 9.4337344e-01 5.1805627e-02]]\n",
      "Label 126: predicted: 3 true: 0 p: [[1.77213866e-02 1.19914606e-04 1.76118985e-01 8.06039751e-01]]\n",
      "Label 127: predicted: 3 true: 0 p: [[0.08079431 0.05132001 0.04550154 0.8223842 ]]\n",
      "Label 128: predicted: 2 true: 0 p: [[3.4301665e-05 2.3167729e-04 9.9865687e-01 1.0771385e-03]]\n",
      "Label 129: predicted: 2 true: 0 p: [[0.02132962 0.00230466 0.6352005  0.34116524]]\n",
      "Label 130: predicted: 2 true: 0 p: [[2.4549814e-01 6.1444443e-05 4.3204740e-01 3.2239306e-01]]\n",
      "Label 131: predicted: 2 true: 0 p: [[1.3342492e-04 1.5823560e-05 9.9861026e-01 1.2403986e-03]]\n",
      "Label 132: predicted: 2 true: 0 p: [[2.6393277e-04 1.1190751e-03 9.8826164e-01 1.0355425e-02]]\n",
      "Label 133: predicted: 2 true: 0 p: [[3.17388243e-04 4.30665575e-02 9.44183946e-01 1.24320835e-02]]\n",
      "Label 134: predicted: 2 true: 0 p: [[1.5744020e-03 4.7579562e-04 9.8595053e-01 1.1999274e-02]]\n",
      "Label 135: predicted: 0 true: 0 p: [[9.2829692e-01 6.3596130e-04 7.7062356e-04 7.0296437e-02]]\n",
      "Label 136: predicted: 2 true: 0 p: [[2.4572627e-01 2.4567876e-04 6.5931934e-01 9.4708771e-02]]\n",
      "Label 137: predicted: 2 true: 0 p: [[3.6588889e-03 2.3913428e-05 9.6690851e-01 2.9408665e-02]]\n",
      "Label 138: predicted: 2 true: 0 p: [[4.6315496e-03 1.8929258e-04 9.4337344e-01 5.1805627e-02]]\n",
      "Label 139: predicted: 3 true: 0 p: [[1.77213866e-02 1.19914606e-04 1.76118985e-01 8.06039751e-01]]\n",
      "Label 140: predicted: 3 true: 0 p: [[0.08079431 0.05132001 0.04550154 0.8223842 ]]\n",
      "Label 141: predicted: 2 true: 0 p: [[3.4301665e-05 2.3167729e-04 9.9865687e-01 1.0771385e-03]]\n",
      "Label 142: predicted: 2 true: 0 p: [[0.02132962 0.00230466 0.6352005  0.34116524]]\n",
      "Label 143: predicted: 2 true: 0 p: [[2.4549814e-01 6.1444443e-05 4.3204740e-01 3.2239306e-01]]\n",
      "Label 144: predicted: 2 true: 0 p: [[1.3342492e-04 1.5823560e-05 9.9861026e-01 1.2403986e-03]]\n",
      "Label 145: predicted: 2 true: 0 p: [[2.6393277e-04 1.1190751e-03 9.8826164e-01 1.0355425e-02]]\n",
      "Label 146: predicted: 2 true: 0 p: [[3.17388243e-04 4.30665575e-02 9.44183946e-01 1.24320835e-02]]\n",
      "Label 147: predicted: 2 true: 0 p: [[1.5744020e-03 4.7579562e-04 9.8595053e-01 1.1999274e-02]]\n",
      "Label 148: predicted: 0 true: 0 p: [[9.2829692e-01 6.3596130e-04 7.7062356e-04 7.0296437e-02]]\n",
      "Label 149: predicted: 2 true: 0 p: [[2.4572627e-01 2.4567876e-04 6.5931934e-01 9.4708771e-02]]\n",
      "Label 150: predicted: 2 true: 0 p: [[3.6588889e-03 2.3913428e-05 9.6690851e-01 2.9408665e-02]]\n",
      "Label 151: predicted: 2 true: 0 p: [[4.6315496e-03 1.8929258e-04 9.4337344e-01 5.1805627e-02]]\n",
      "Label 152: predicted: 3 true: 0 p: [[1.77213866e-02 1.19914606e-04 1.76118985e-01 8.06039751e-01]]\n",
      "Label 153: predicted: 3 true: 0 p: [[0.08079431 0.05132001 0.04550154 0.8223842 ]]\n",
      "Label 154: predicted: 2 true: 0 p: [[3.4301665e-05 2.3167729e-04 9.9865687e-01 1.0771385e-03]]\n",
      "Label 155: predicted: 2 true: 0 p: [[0.02132962 0.00230466 0.6352005  0.34116524]]\n",
      "Label 156: predicted: 2 true: 0 p: [[2.4549814e-01 6.1444443e-05 4.3204740e-01 3.2239306e-01]]\n",
      "Label 157: predicted: 2 true: 0 p: [[1.3342492e-04 1.5823560e-05 9.9861026e-01 1.2403986e-03]]\n",
      "Label 158: predicted: 2 true: 0 p: [[2.6393277e-04 1.1190751e-03 9.8826164e-01 1.0355425e-02]]\n",
      "Label 159: predicted: 2 true: 0 p: [[3.17388243e-04 4.30665575e-02 9.44183946e-01 1.24320835e-02]]\n",
      "Label 160: predicted: 2 true: 0 p: [[1.5744020e-03 4.7579562e-04 9.8595053e-01 1.1999274e-02]]\n",
      "Label 161: predicted: 0 true: 0 p: [[9.2829692e-01 6.3596130e-04 7.7062356e-04 7.0296437e-02]]\n",
      "Label 162: predicted: 2 true: 0 p: [[2.4572627e-01 2.4567876e-04 6.5931934e-01 9.4708771e-02]]\n",
      "Label 163: predicted: 2 true: 0 p: [[3.6588889e-03 2.3913428e-05 9.6690851e-01 2.9408665e-02]]\n",
      "Label 164: predicted: 2 true: 0 p: [[4.6315496e-03 1.8929258e-04 9.4337344e-01 5.1805627e-02]]\n",
      "Label 165: predicted: 3 true: 0 p: [[1.77213866e-02 1.19914606e-04 1.76118985e-01 8.06039751e-01]]\n",
      "Label 166: predicted: 3 true: 0 p: [[0.08079431 0.05132001 0.04550154 0.8223842 ]]\n",
      "Label 167: predicted: 2 true: 0 p: [[3.4301665e-05 2.3167729e-04 9.9865687e-01 1.0771385e-03]]\n",
      "Label 168: predicted: 2 true: 0 p: [[0.02132962 0.00230466 0.6352005  0.34116524]]\n",
      "Label 169: predicted: 2 true: 0 p: [[2.4549814e-01 6.1444443e-05 4.3204740e-01 3.2239306e-01]]\n",
      "Label 170: predicted: 2 true: 0 p: [[1.3342492e-04 1.5823560e-05 9.9861026e-01 1.2403986e-03]]\n",
      "Label 171: predicted: 2 true: 0 p: [[2.6393277e-04 1.1190751e-03 9.8826164e-01 1.0355425e-02]]\n",
      "Label 172: predicted: 2 true: 0 p: [[3.17388243e-04 4.30665575e-02 9.44183946e-01 1.24320835e-02]]\n",
      "Label 173: predicted: 2 true: 0 p: [[1.5744020e-03 4.7579562e-04 9.8595053e-01 1.1999274e-02]]\n",
      "Label 174: predicted: 0 true: 0 p: [[9.2829692e-01 6.3596130e-04 7.7062356e-04 7.0296437e-02]]\n",
      "Label 175: predicted: 2 true: 0 p: [[2.4572627e-01 2.4567876e-04 6.5931934e-01 9.4708771e-02]]\n",
      "Label 176: predicted: 2 true: 0 p: [[3.6588889e-03 2.3913428e-05 9.6690851e-01 2.9408665e-02]]\n",
      "Label 177: predicted: 2 true: 0 p: [[4.6315496e-03 1.8929258e-04 9.4337344e-01 5.1805627e-02]]\n",
      "Label 178: predicted: 3 true: 0 p: [[1.77213866e-02 1.19914606e-04 1.76118985e-01 8.06039751e-01]]\n",
      "Label 179: predicted: 3 true: 0 p: [[0.08079431 0.05132001 0.04550154 0.8223842 ]]\n",
      "Label 180: predicted: 2 true: 0 p: [[3.4301665e-05 2.3167729e-04 9.9865687e-01 1.0771385e-03]]\n"
     ]
    },
    {
     "name": "stdout",
     "output_type": "stream",
     "text": [
      "Label 181: predicted: 2 true: 0 p: [[0.02132962 0.00230466 0.6352005  0.34116524]]\n",
      "Label 182: predicted: 2 true: 0 p: [[2.4549814e-01 6.1444443e-05 4.3204740e-01 3.2239306e-01]]\n",
      "Label 183: predicted: 2 true: 0 p: [[1.3342492e-04 1.5823560e-05 9.9861026e-01 1.2403986e-03]]\n",
      "Label 184: predicted: 2 true: 0 p: [[2.6393277e-04 1.1190751e-03 9.8826164e-01 1.0355425e-02]]\n",
      "Label 185: predicted: 2 true: 0 p: [[3.17388243e-04 4.30665575e-02 9.44183946e-01 1.24320835e-02]]\n",
      "Label 186: predicted: 2 true: 0 p: [[1.5744020e-03 4.7579562e-04 9.8595053e-01 1.1999274e-02]]\n",
      "Label 187: predicted: 0 true: 0 p: [[9.2829692e-01 6.3596130e-04 7.7062356e-04 7.0296437e-02]]\n",
      "Label 188: predicted: 2 true: 0 p: [[2.4572627e-01 2.4567876e-04 6.5931934e-01 9.4708771e-02]]\n",
      "Label 189: predicted: 2 true: 0 p: [[3.6588889e-03 2.3913428e-05 9.6690851e-01 2.9408665e-02]]\n",
      "Label 190: predicted: 2 true: 0 p: [[4.6315496e-03 1.8929258e-04 9.4337344e-01 5.1805627e-02]]\n",
      "Label 191: predicted: 3 true: 0 p: [[1.77213866e-02 1.19914606e-04 1.76118985e-01 8.06039751e-01]]\n",
      "Label 192: predicted: 3 true: 0 p: [[0.08079431 0.05132001 0.04550154 0.8223842 ]]\n",
      "Label 193: predicted: 2 true: 0 p: [[3.4301665e-05 2.3167729e-04 9.9865687e-01 1.0771385e-03]]\n",
      "Label 194: predicted: 2 true: 0 p: [[0.02132962 0.00230466 0.6352005  0.34116524]]\n",
      "Label 195: predicted: 2 true: 0 p: [[2.4549814e-01 6.1444443e-05 4.3204740e-01 3.2239306e-01]]\n",
      "Label 196: predicted: 2 true: 0 p: [[1.3342492e-04 1.5823560e-05 9.9861026e-01 1.2403986e-03]]\n",
      "Label 197: predicted: 2 true: 0 p: [[2.6393277e-04 1.1190751e-03 9.8826164e-01 1.0355425e-02]]\n",
      "Label 198: predicted: 2 true: 0 p: [[3.17388243e-04 4.30665575e-02 9.44183946e-01 1.24320835e-02]]\n",
      "Label 199: predicted: 2 true: 0 p: [[1.5744020e-03 4.7579562e-04 9.8595053e-01 1.1999274e-02]]\n",
      "Label 200: predicted: 0 true: 0 p: [[9.2829692e-01 6.3596130e-04 7.7062356e-04 7.0296437e-02]]\n",
      "Label 201: predicted: 2 true: 0 p: [[2.4572627e-01 2.4567876e-04 6.5931934e-01 9.4708771e-02]]\n",
      "Label 202: predicted: 2 true: 0 p: [[3.6588889e-03 2.3913428e-05 9.6690851e-01 2.9408665e-02]]\n",
      "Label 203: predicted: 2 true: 0 p: [[4.6315496e-03 1.8929258e-04 9.4337344e-01 5.1805627e-02]]\n",
      "Label 204: predicted: 3 true: 0 p: [[1.77213866e-02 1.19914606e-04 1.76118985e-01 8.06039751e-01]]\n",
      "Label 205: predicted: 3 true: 0 p: [[0.08079431 0.05132001 0.04550154 0.8223842 ]]\n",
      "Label 206: predicted: 2 true: 0 p: [[3.4301665e-05 2.3167729e-04 9.9865687e-01 1.0771385e-03]]\n",
      "Label 207: predicted: 2 true: 0 p: [[0.02132962 0.00230466 0.6352005  0.34116524]]\n",
      "Label 208: predicted: 2 true: 0 p: [[2.4549814e-01 6.1444443e-05 4.3204740e-01 3.2239306e-01]]\n",
      "Label 209: predicted: 2 true: 0 p: [[1.3342492e-04 1.5823560e-05 9.9861026e-01 1.2403986e-03]]\n",
      "Label 210: predicted: 2 true: 0 p: [[2.6393277e-04 1.1190751e-03 9.8826164e-01 1.0355425e-02]]\n",
      "Label 211: predicted: 2 true: 0 p: [[3.17388243e-04 4.30665575e-02 9.44183946e-01 1.24320835e-02]]\n",
      "Label 212: predicted: 2 true: 0 p: [[1.5744020e-03 4.7579562e-04 9.8595053e-01 1.1999274e-02]]\n",
      "Label 213: predicted: 0 true: 0 p: [[9.2829692e-01 6.3596130e-04 7.7062356e-04 7.0296437e-02]]\n",
      "Label 214: predicted: 2 true: 0 p: [[2.4572627e-01 2.4567876e-04 6.5931934e-01 9.4708771e-02]]\n",
      "Label 215: predicted: 2 true: 0 p: [[3.6588889e-03 2.3913428e-05 9.6690851e-01 2.9408665e-02]]\n",
      "Label 216: predicted: 2 true: 0 p: [[4.6315496e-03 1.8929258e-04 9.4337344e-01 5.1805627e-02]]\n",
      "Label 217: predicted: 3 true: 0 p: [[1.77213866e-02 1.19914606e-04 1.76118985e-01 8.06039751e-01]]\n",
      "Label 218: predicted: 3 true: 0 p: [[0.08079431 0.05132001 0.04550154 0.8223842 ]]\n",
      "Label 219: predicted: 2 true: 0 p: [[3.4301665e-05 2.3167729e-04 9.9865687e-01 1.0771385e-03]]\n",
      "Label 220: predicted: 2 true: 0 p: [[0.02132962 0.00230466 0.6352005  0.34116524]]\n",
      "Label 221: predicted: 2 true: 0 p: [[2.4549814e-01 6.1444443e-05 4.3204740e-01 3.2239306e-01]]\n",
      "Label 222: predicted: 2 true: 0 p: [[1.3342492e-04 1.5823560e-05 9.9861026e-01 1.2403986e-03]]\n",
      "Label 223: predicted: 2 true: 0 p: [[2.6393277e-04 1.1190751e-03 9.8826164e-01 1.0355425e-02]]\n",
      "Label 224: predicted: 2 true: 0 p: [[3.17388243e-04 4.30665575e-02 9.44183946e-01 1.24320835e-02]]\n",
      "Label 225: predicted: 2 true: 0 p: [[1.5744020e-03 4.7579562e-04 9.8595053e-01 1.1999274e-02]]\n",
      "Label 226: predicted: 0 true: 0 p: [[9.2829692e-01 6.3596130e-04 7.7062356e-04 7.0296437e-02]]\n",
      "Label 227: predicted: 2 true: 0 p: [[2.4572627e-01 2.4567876e-04 6.5931934e-01 9.4708771e-02]]\n",
      "Label 228: predicted: 2 true: 0 p: [[3.6588889e-03 2.3913428e-05 9.6690851e-01 2.9408665e-02]]\n",
      "Label 229: predicted: 2 true: 0 p: [[4.6315496e-03 1.8929258e-04 9.4337344e-01 5.1805627e-02]]\n",
      "Label 230: predicted: 3 true: 0 p: [[1.77213866e-02 1.19914606e-04 1.76118985e-01 8.06039751e-01]]\n",
      "Label 231: predicted: 3 true: 0 p: [[0.08079431 0.05132001 0.04550154 0.8223842 ]]\n",
      "Label 232: predicted: 2 true: 0 p: [[3.4301665e-05 2.3167729e-04 9.9865687e-01 1.0771385e-03]]\n",
      "Label 233: predicted: 2 true: 0 p: [[0.02132962 0.00230466 0.6352005  0.34116524]]\n",
      "Label 234: predicted: 2 true: 0 p: [[2.4549814e-01 6.1444443e-05 4.3204740e-01 3.2239306e-01]]\n",
      "Label 235: predicted: 2 true: 0 p: [[1.3342492e-04 1.5823560e-05 9.9861026e-01 1.2403986e-03]]\n",
      "Label 236: predicted: 2 true: 0 p: [[2.6393277e-04 1.1190751e-03 9.8826164e-01 1.0355425e-02]]\n",
      "Label 237: predicted: 2 true: 0 p: [[3.17388243e-04 4.30665575e-02 9.44183946e-01 1.24320835e-02]]\n",
      "Label 238: predicted: 2 true: 0 p: [[1.5744020e-03 4.7579562e-04 9.8595053e-01 1.1999274e-02]]\n",
      "Label 239: predicted: 0 true: 0 p: [[9.2829692e-01 6.3596130e-04 7.7062356e-04 7.0296437e-02]]\n",
      "Label 240: predicted: 2 true: 0 p: [[2.4572627e-01 2.4567876e-04 6.5931934e-01 9.4708771e-02]]\n",
      "Label 241: predicted: 2 true: 0 p: [[3.6588889e-03 2.3913428e-05 9.6690851e-01 2.9408665e-02]]\n",
      "Label 242: predicted: 2 true: 0 p: [[4.6315496e-03 1.8929258e-04 9.4337344e-01 5.1805627e-02]]\n",
      "Label 243: predicted: 3 true: 0 p: [[1.77213866e-02 1.19914606e-04 1.76118985e-01 8.06039751e-01]]\n",
      "Label 244: predicted: 3 true: 0 p: [[0.08079431 0.05132001 0.04550154 0.8223842 ]]\n",
      "Label 245: predicted: 2 true: 0 p: [[3.4301665e-05 2.3167729e-04 9.9865687e-01 1.0771385e-03]]\n",
      "Label 246: predicted: 2 true: 0 p: [[0.02132962 0.00230466 0.6352005  0.34116524]]\n",
      "Label 247: predicted: 2 true: 0 p: [[2.4549814e-01 6.1444443e-05 4.3204740e-01 3.2239306e-01]]\n",
      "Label 248: predicted: 2 true: 0 p: [[1.3342492e-04 1.5823560e-05 9.9861026e-01 1.2403986e-03]]\n",
      "Label 249: predicted: 2 true: 0 p: [[2.6393277e-04 1.1190751e-03 9.8826164e-01 1.0355425e-02]]\n",
      "Label 250: predicted: 2 true: 0 p: [[3.17388243e-04 4.30665575e-02 9.44183946e-01 1.24320835e-02]]\n",
      "Label 251: predicted: 2 true: 0 p: [[1.5744020e-03 4.7579562e-04 9.8595053e-01 1.1999274e-02]]\n",
      "Label 252: predicted: 0 true: 0 p: [[9.2829692e-01 6.3596130e-04 7.7062356e-04 7.0296437e-02]]\n",
      "Label 253: predicted: 2 true: 0 p: [[2.4572627e-01 2.4567876e-04 6.5931934e-01 9.4708771e-02]]\n",
      "Label 254: predicted: 2 true: 0 p: [[3.6588889e-03 2.3913428e-05 9.6690851e-01 2.9408665e-02]]\n",
      "Label 255: predicted: 2 true: 0 p: [[4.6315496e-03 1.8929258e-04 9.4337344e-01 5.1805627e-02]]\n",
      "Label 256: predicted: 3 true: 0 p: [[1.77213866e-02 1.19914606e-04 1.76118985e-01 8.06039751e-01]]\n",
      "Label 257: predicted: 3 true: 0 p: [[0.08079431 0.05132001 0.04550154 0.8223842 ]]\n",
      "Label 258: predicted: 2 true: 0 p: [[3.4301665e-05 2.3167729e-04 9.9865687e-01 1.0771385e-03]]\n",
      "Label 259: predicted: 2 true: 0 p: [[0.02132962 0.00230466 0.6352005  0.34116524]]\n",
      "Label 260: predicted: 2 true: 0 p: [[2.4549814e-01 6.1444443e-05 4.3204740e-01 3.2239306e-01]]\n",
      "Label 261: predicted: 2 true: 0 p: [[1.3342492e-04 1.5823560e-05 9.9861026e-01 1.2403986e-03]]\n",
      "Label 262: predicted: 2 true: 0 p: [[2.6393277e-04 1.1190751e-03 9.8826164e-01 1.0355425e-02]]\n",
      "Label 263: predicted: 2 true: 0 p: [[3.17388243e-04 4.30665575e-02 9.44183946e-01 1.24320835e-02]]\n",
      "Label 264: predicted: 2 true: 0 p: [[1.5744020e-03 4.7579562e-04 9.8595053e-01 1.1999274e-02]]\n",
      "Label 265: predicted: 0 true: 0 p: [[9.2829692e-01 6.3596130e-04 7.7062356e-04 7.0296437e-02]]\n",
      "Label 266: predicted: 2 true: 0 p: [[2.4572627e-01 2.4567876e-04 6.5931934e-01 9.4708771e-02]]\n",
      "Label 267: predicted: 2 true: 0 p: [[3.6588889e-03 2.3913428e-05 9.6690851e-01 2.9408665e-02]]\n",
      "Label 268: predicted: 2 true: 0 p: [[4.6315496e-03 1.8929258e-04 9.4337344e-01 5.1805627e-02]]\n",
      "Label 269: predicted: 3 true: 0 p: [[1.77213866e-02 1.19914606e-04 1.76118985e-01 8.06039751e-01]]\n",
      "Label 270: predicted: 3 true: 0 p: [[0.08079431 0.05132001 0.04550154 0.8223842 ]]\n",
      "Label 271: predicted: 2 true: 0 p: [[3.4301665e-05 2.3167729e-04 9.9865687e-01 1.0771385e-03]]\n",
      "Label 272: predicted: 2 true: 0 p: [[0.02132962 0.00230466 0.6352005  0.34116524]]\n",
      "Label 273: predicted: 2 true: 0 p: [[2.4549814e-01 6.1444443e-05 4.3204740e-01 3.2239306e-01]]\n"
     ]
    },
    {
     "name": "stdout",
     "output_type": "stream",
     "text": [
      "Label 274: predicted: 2 true: 0 p: [[1.3342492e-04 1.5823560e-05 9.9861026e-01 1.2403986e-03]]\n",
      "Label 275: predicted: 2 true: 0 p: [[2.6393277e-04 1.1190751e-03 9.8826164e-01 1.0355425e-02]]\n",
      "Label 276: predicted: 2 true: 0 p: [[3.17388243e-04 4.30665575e-02 9.44183946e-01 1.24320835e-02]]\n",
      "Label 277: predicted: 2 true: 0 p: [[1.5744020e-03 4.7579562e-04 9.8595053e-01 1.1999274e-02]]\n",
      "Label 278: predicted: 0 true: 0 p: [[9.2829692e-01 6.3596130e-04 7.7062356e-04 7.0296437e-02]]\n",
      "Label 279: predicted: 2 true: 0 p: [[2.4572627e-01 2.4567876e-04 6.5931934e-01 9.4708771e-02]]\n",
      "Label 280: predicted: 2 true: 0 p: [[3.6588889e-03 2.3913428e-05 9.6690851e-01 2.9408665e-02]]\n",
      "Label 281: predicted: 2 true: 0 p: [[4.6315496e-03 1.8929258e-04 9.4337344e-01 5.1805627e-02]]\n",
      "Label 282: predicted: 3 true: 0 p: [[1.77213866e-02 1.19914606e-04 1.76118985e-01 8.06039751e-01]]\n",
      "Label 283: predicted: 3 true: 0 p: [[0.08079431 0.05132001 0.04550154 0.8223842 ]]\n",
      "Label 284: predicted: 2 true: 0 p: [[3.4301665e-05 2.3167729e-04 9.9865687e-01 1.0771385e-03]]\n",
      "Label 285: predicted: 2 true: 0 p: [[0.02132962 0.00230466 0.6352005  0.34116524]]\n",
      "Label 286: predicted: 2 true: 0 p: [[2.4549814e-01 6.1444443e-05 4.3204740e-01 3.2239306e-01]]\n",
      "Label 287: predicted: 2 true: 0 p: [[1.3342492e-04 1.5823560e-05 9.9861026e-01 1.2403986e-03]]\n",
      "Label 288: predicted: 2 true: 0 p: [[2.6393277e-04 1.1190751e-03 9.8826164e-01 1.0355425e-02]]\n",
      "Label 289: predicted: 2 true: 0 p: [[3.17388243e-04 4.30665575e-02 9.44183946e-01 1.24320835e-02]]\n",
      "Label 290: predicted: 2 true: 0 p: [[1.5744020e-03 4.7579562e-04 9.8595053e-01 1.1999274e-02]]\n",
      "Label 291: predicted: 0 true: 0 p: [[9.2829692e-01 6.3596130e-04 7.7062356e-04 7.0296437e-02]]\n",
      "Label 292: predicted: 2 true: 0 p: [[2.4572627e-01 2.4567876e-04 6.5931934e-01 9.4708771e-02]]\n",
      "Label 293: predicted: 2 true: 0 p: [[3.6588889e-03 2.3913428e-05 9.6690851e-01 2.9408665e-02]]\n",
      "Label 294: predicted: 2 true: 0 p: [[4.6315496e-03 1.8929258e-04 9.4337344e-01 5.1805627e-02]]\n",
      "Label 295: predicted: 3 true: 0 p: [[1.77213866e-02 1.19914606e-04 1.76118985e-01 8.06039751e-01]]\n",
      "Label 296: predicted: 3 true: 0 p: [[0.08079431 0.05132001 0.04550154 0.8223842 ]]\n",
      "Label 297: predicted: 2 true: 0 p: [[3.4301665e-05 2.3167729e-04 9.9865687e-01 1.0771385e-03]]\n",
      "Label 298: predicted: 2 true: 0 p: [[0.02132962 0.00230466 0.6352005  0.34116524]]\n",
      "Label 299: predicted: 2 true: 0 p: [[2.4549814e-01 6.1444443e-05 4.3204740e-01 3.2239306e-01]]\n"
     ]
    }
   ],
   "source": [
    "dummy_iters = 0\n",
    "test_data = fake_data\n",
    "example_training_generator = StepanBatchGenerator(test_data, num_steps, 1, num_classes, vocabulary, skip_steps=skip_steps)\n",
    "print(\"Training data:\")\n",
    "#for i in range(dummy_iters):\n",
    "#    dummy = next(example_training_generator.generate())\n",
    "num_predict = 300\n",
    "for i in range(num_predict):\n",
    "    data = next(example_training_generator.generate())\n",
    "    prediction = stepan_model.predict_proba(data[0])\n",
    "    predicted = np.argmax(prediction)\n",
    "    true = np.argmax(data[1])\n",
    "    print('Label {}: predicted: {} true: {} p: {}'.format(i, predicted, true, prediction))"
   ]
  },
  {
   "cell_type": "code",
   "execution_count": null,
   "metadata": {},
   "outputs": [],
   "source": []
  }
 ],
 "metadata": {
  "kernelspec": {
   "display_name": "Python 3",
   "language": "python",
   "name": "python3"
  },
  "language_info": {
   "codemirror_mode": {
    "name": "ipython",
    "version": 3
   },
   "file_extension": ".py",
   "mimetype": "text/x-python",
   "name": "python",
   "nbconvert_exporter": "python",
   "pygments_lexer": "ipython3",
   "version": "3.6.7"
  }
 },
 "nbformat": 4,
 "nbformat_minor": 2
}
